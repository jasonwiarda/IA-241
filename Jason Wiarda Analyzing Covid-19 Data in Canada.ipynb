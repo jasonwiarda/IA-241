{
 "cells": [
  {
   "cell_type": "markdown",
   "id": "4c29cd1d",
   "metadata": {},
   "source": [
    "# Analyzing Covid-19 Data in Canada"
   ]
  },
  {
   "cell_type": "markdown",
   "id": "0016a6b7",
   "metadata": {},
   "source": [
    "![covid_data](https://www.thoughtco.com/thmb/9ogmlNLs39e3Lp6suuXO2QsBXEg=/1500x844/smart/filters:no_upscale()/national-flag-canada-lge2-56a0e57f5f9b58eba4b4f422.jpg)"
   ]
  },
  {
   "cell_type": "markdown",
   "id": "3be4e494",
   "metadata": {},
   "source": [
    "## Author Information\n",
    "\n",
    "### Jason Wiarda\n",
    "### IA-241\n",
    "### 5/4/2022"
   ]
  },
  {
   "cell_type": "markdown",
   "id": "32eb4655",
   "metadata": {},
   "source": [
    "## Background of Covid-19"
   ]
  },
  {
   "cell_type": "markdown",
   "id": "b6af01f3",
   "metadata": {},
   "source": [
    "#### Covid-19, or the Coronavirus Disease (SARS-CoV-2 Virus), is an infectious disease that results in respiratory illness that has commonly mild to moderate symtoms. The disease originated in China and surfaced in 2019. As of May 4th, 2022, there is known to be 515 million confirmed cases worldwide, with 6.24 millions deaths resulting from the Covid-19 Virus."
   ]
  },
  {
   "cell_type": "markdown",
   "id": "1e81052e",
   "metadata": {},
   "source": [
    "## Data Source\n",
    "### This data is from the [European Center for Disease Control](https://www.ecdc.europa.eu/en/publications-data/download-todays-data-geographic-distribution-covid-19-cases-worldwide)"
   ]
  },
  {
   "cell_type": "markdown",
   "id": "3ec77c09",
   "metadata": {},
   "source": [
    "## Importing Data"
   ]
  },
  {
   "cell_type": "markdown",
   "id": "fb40e5bf",
   "metadata": {},
   "source": [
    "#### *I imported this data to test that the 'df' function was working correctly \n",
    "#### %matplotlib inline and pandas where imported into the notebook"
   ]
  },
  {
   "cell_type": "code",
   "execution_count": 8,
   "id": "ac2b63f0",
   "metadata": {},
   "outputs": [],
   "source": [
    "%matplotlib inline"
   ]
  },
  {
   "cell_type": "code",
   "execution_count": 9,
   "id": "50417f39",
   "metadata": {},
   "outputs": [],
   "source": [
    "import pandas"
   ]
  },
  {
   "cell_type": "code",
   "execution_count": 10,
   "id": "bec7ae3e",
   "metadata": {},
   "outputs": [
    {
     "data": {
      "text/html": [
       "<div>\n",
       "<style scoped>\n",
       "    .dataframe tbody tr th:only-of-type {\n",
       "        vertical-align: middle;\n",
       "    }\n",
       "\n",
       "    .dataframe tbody tr th {\n",
       "        vertical-align: top;\n",
       "    }\n",
       "\n",
       "    .dataframe thead th {\n",
       "        text-align: right;\n",
       "    }\n",
       "</style>\n",
       "<table border=\"1\" class=\"dataframe\">\n",
       "  <thead>\n",
       "    <tr style=\"text-align: right;\">\n",
       "      <th></th>\n",
       "      <th>dateRep</th>\n",
       "      <th>day</th>\n",
       "      <th>month</th>\n",
       "      <th>year</th>\n",
       "      <th>cases</th>\n",
       "      <th>deaths</th>\n",
       "      <th>countriesAndTerritories</th>\n",
       "      <th>geoId</th>\n",
       "      <th>countryterritoryCode</th>\n",
       "      <th>popData2019</th>\n",
       "      <th>continentExp</th>\n",
       "      <th>Cumulative_number_for_14_days_of_COVID-19_cases_per_100000</th>\n",
       "    </tr>\n",
       "  </thead>\n",
       "  <tbody>\n",
       "    <tr>\n",
       "      <th>0</th>\n",
       "      <td>14/12/2020</td>\n",
       "      <td>14</td>\n",
       "      <td>12</td>\n",
       "      <td>2020</td>\n",
       "      <td>746</td>\n",
       "      <td>6</td>\n",
       "      <td>Afghanistan</td>\n",
       "      <td>AF</td>\n",
       "      <td>AFG</td>\n",
       "      <td>38041757.0</td>\n",
       "      <td>Asia</td>\n",
       "      <td>9.013779</td>\n",
       "    </tr>\n",
       "    <tr>\n",
       "      <th>1</th>\n",
       "      <td>13/12/2020</td>\n",
       "      <td>13</td>\n",
       "      <td>12</td>\n",
       "      <td>2020</td>\n",
       "      <td>298</td>\n",
       "      <td>9</td>\n",
       "      <td>Afghanistan</td>\n",
       "      <td>AF</td>\n",
       "      <td>AFG</td>\n",
       "      <td>38041757.0</td>\n",
       "      <td>Asia</td>\n",
       "      <td>7.052776</td>\n",
       "    </tr>\n",
       "    <tr>\n",
       "      <th>2</th>\n",
       "      <td>2020-12-12 00:00:00</td>\n",
       "      <td>12</td>\n",
       "      <td>12</td>\n",
       "      <td>2020</td>\n",
       "      <td>113</td>\n",
       "      <td>11</td>\n",
       "      <td>Afghanistan</td>\n",
       "      <td>AF</td>\n",
       "      <td>AFG</td>\n",
       "      <td>38041757.0</td>\n",
       "      <td>Asia</td>\n",
       "      <td>6.868768</td>\n",
       "    </tr>\n",
       "    <tr>\n",
       "      <th>3</th>\n",
       "      <td>2020-11-12 00:00:00</td>\n",
       "      <td>11</td>\n",
       "      <td>12</td>\n",
       "      <td>2020</td>\n",
       "      <td>63</td>\n",
       "      <td>10</td>\n",
       "      <td>Afghanistan</td>\n",
       "      <td>AF</td>\n",
       "      <td>AFG</td>\n",
       "      <td>38041757.0</td>\n",
       "      <td>Asia</td>\n",
       "      <td>7.134266</td>\n",
       "    </tr>\n",
       "    <tr>\n",
       "      <th>4</th>\n",
       "      <td>2020-10-12 00:00:00</td>\n",
       "      <td>10</td>\n",
       "      <td>12</td>\n",
       "      <td>2020</td>\n",
       "      <td>202</td>\n",
       "      <td>16</td>\n",
       "      <td>Afghanistan</td>\n",
       "      <td>AF</td>\n",
       "      <td>AFG</td>\n",
       "      <td>38041757.0</td>\n",
       "      <td>Asia</td>\n",
       "      <td>6.968658</td>\n",
       "    </tr>\n",
       "    <tr>\n",
       "      <th>5</th>\n",
       "      <td>2020-09-12 00:00:00</td>\n",
       "      <td>9</td>\n",
       "      <td>12</td>\n",
       "      <td>2020</td>\n",
       "      <td>135</td>\n",
       "      <td>13</td>\n",
       "      <td>Afghanistan</td>\n",
       "      <td>AF</td>\n",
       "      <td>AFG</td>\n",
       "      <td>38041757.0</td>\n",
       "      <td>Asia</td>\n",
       "      <td>6.963401</td>\n",
       "    </tr>\n",
       "    <tr>\n",
       "      <th>6</th>\n",
       "      <td>2020-08-12 00:00:00</td>\n",
       "      <td>8</td>\n",
       "      <td>12</td>\n",
       "      <td>2020</td>\n",
       "      <td>200</td>\n",
       "      <td>6</td>\n",
       "      <td>Afghanistan</td>\n",
       "      <td>AF</td>\n",
       "      <td>AFG</td>\n",
       "      <td>38041757.0</td>\n",
       "      <td>Asia</td>\n",
       "      <td>7.094835</td>\n",
       "    </tr>\n",
       "    <tr>\n",
       "      <th>7</th>\n",
       "      <td>2020-07-12 00:00:00</td>\n",
       "      <td>7</td>\n",
       "      <td>12</td>\n",
       "      <td>2020</td>\n",
       "      <td>210</td>\n",
       "      <td>26</td>\n",
       "      <td>Afghanistan</td>\n",
       "      <td>AF</td>\n",
       "      <td>AFG</td>\n",
       "      <td>38041757.0</td>\n",
       "      <td>Asia</td>\n",
       "      <td>7.215755</td>\n",
       "    </tr>\n",
       "    <tr>\n",
       "      <th>8</th>\n",
       "      <td>2020-06-12 00:00:00</td>\n",
       "      <td>6</td>\n",
       "      <td>12</td>\n",
       "      <td>2020</td>\n",
       "      <td>234</td>\n",
       "      <td>10</td>\n",
       "      <td>Afghanistan</td>\n",
       "      <td>AF</td>\n",
       "      <td>AFG</td>\n",
       "      <td>38041757.0</td>\n",
       "      <td>Asia</td>\n",
       "      <td>7.326160</td>\n",
       "    </tr>\n",
       "    <tr>\n",
       "      <th>9</th>\n",
       "      <td>2020-05-12 00:00:00</td>\n",
       "      <td>5</td>\n",
       "      <td>12</td>\n",
       "      <td>2020</td>\n",
       "      <td>235</td>\n",
       "      <td>18</td>\n",
       "      <td>Afghanistan</td>\n",
       "      <td>AF</td>\n",
       "      <td>AFG</td>\n",
       "      <td>38041757.0</td>\n",
       "      <td>Asia</td>\n",
       "      <td>7.115865</td>\n",
       "    </tr>\n",
       "  </tbody>\n",
       "</table>\n",
       "</div>"
      ],
      "text/plain": [
       "               dateRep  day  month  year  cases  deaths  \\\n",
       "0           14/12/2020   14     12  2020    746       6   \n",
       "1           13/12/2020   13     12  2020    298       9   \n",
       "2  2020-12-12 00:00:00   12     12  2020    113      11   \n",
       "3  2020-11-12 00:00:00   11     12  2020     63      10   \n",
       "4  2020-10-12 00:00:00   10     12  2020    202      16   \n",
       "5  2020-09-12 00:00:00    9     12  2020    135      13   \n",
       "6  2020-08-12 00:00:00    8     12  2020    200       6   \n",
       "7  2020-07-12 00:00:00    7     12  2020    210      26   \n",
       "8  2020-06-12 00:00:00    6     12  2020    234      10   \n",
       "9  2020-05-12 00:00:00    5     12  2020    235      18   \n",
       "\n",
       "  countriesAndTerritories geoId countryterritoryCode  popData2019  \\\n",
       "0             Afghanistan    AF                  AFG   38041757.0   \n",
       "1             Afghanistan    AF                  AFG   38041757.0   \n",
       "2             Afghanistan    AF                  AFG   38041757.0   \n",
       "3             Afghanistan    AF                  AFG   38041757.0   \n",
       "4             Afghanistan    AF                  AFG   38041757.0   \n",
       "5             Afghanistan    AF                  AFG   38041757.0   \n",
       "6             Afghanistan    AF                  AFG   38041757.0   \n",
       "7             Afghanistan    AF                  AFG   38041757.0   \n",
       "8             Afghanistan    AF                  AFG   38041757.0   \n",
       "9             Afghanistan    AF                  AFG   38041757.0   \n",
       "\n",
       "  continentExp  Cumulative_number_for_14_days_of_COVID-19_cases_per_100000  \n",
       "0         Asia                                           9.013779           \n",
       "1         Asia                                           7.052776           \n",
       "2         Asia                                           6.868768           \n",
       "3         Asia                                           7.134266           \n",
       "4         Asia                                           6.968658           \n",
       "5         Asia                                           6.963401           \n",
       "6         Asia                                           7.094835           \n",
       "7         Asia                                           7.215755           \n",
       "8         Asia                                           7.326160           \n",
       "9         Asia                                           7.115865           "
      ]
     },
     "execution_count": 10,
     "metadata": {},
     "output_type": "execute_result"
    }
   ],
   "source": [
    "df = pandas.read_excel('s3://wiarda-ia241-2022spring/covid_data.xls')\n",
    "df[:10]"
   ]
  },
  {
   "cell_type": "markdown",
   "id": "13d3f476",
   "metadata": {},
   "source": [
    "## Covid-19 Data in Canada"
   ]
  },
  {
   "cell_type": "markdown",
   "id": "ec8ad807",
   "metadata": {},
   "source": [
    "#### Here is a small section of data on the number of Covid-19 cases per day in Canada. Here you can see the date, number of cases, and deaths all from a single day."
   ]
  },
  {
   "cell_type": "code",
   "execution_count": 12,
   "id": "6f7b90af",
   "metadata": {},
   "outputs": [
    {
     "data": {
      "text/html": [
       "<div>\n",
       "<style scoped>\n",
       "    .dataframe tbody tr th:only-of-type {\n",
       "        vertical-align: middle;\n",
       "    }\n",
       "\n",
       "    .dataframe tbody tr th {\n",
       "        vertical-align: top;\n",
       "    }\n",
       "\n",
       "    .dataframe thead th {\n",
       "        text-align: right;\n",
       "    }\n",
       "</style>\n",
       "<table border=\"1\" class=\"dataframe\">\n",
       "  <thead>\n",
       "    <tr style=\"text-align: right;\">\n",
       "      <th></th>\n",
       "      <th>dateRep</th>\n",
       "      <th>day</th>\n",
       "      <th>month</th>\n",
       "      <th>year</th>\n",
       "      <th>cases</th>\n",
       "      <th>deaths</th>\n",
       "      <th>countriesAndTerritories</th>\n",
       "      <th>geoId</th>\n",
       "      <th>countryterritoryCode</th>\n",
       "      <th>popData2019</th>\n",
       "      <th>continentExp</th>\n",
       "      <th>Cumulative_number_for_14_days_of_COVID-19_cases_per_100000</th>\n",
       "    </tr>\n",
       "  </thead>\n",
       "  <tbody>\n",
       "    <tr>\n",
       "      <th>10316</th>\n",
       "      <td>14/12/2020</td>\n",
       "      <td>14</td>\n",
       "      <td>12</td>\n",
       "      <td>2020</td>\n",
       "      <td>5891</td>\n",
       "      <td>81</td>\n",
       "      <td>Canada</td>\n",
       "      <td>CA</td>\n",
       "      <td>CAN</td>\n",
       "      <td>37411038.0</td>\n",
       "      <td>America</td>\n",
       "      <td>241.813659</td>\n",
       "    </tr>\n",
       "    <tr>\n",
       "      <th>10317</th>\n",
       "      <td>13/12/2020</td>\n",
       "      <td>13</td>\n",
       "      <td>12</td>\n",
       "      <td>2020</td>\n",
       "      <td>6011</td>\n",
       "      <td>99</td>\n",
       "      <td>Canada</td>\n",
       "      <td>CA</td>\n",
       "      <td>CAN</td>\n",
       "      <td>37411038.0</td>\n",
       "      <td>America</td>\n",
       "      <td>240.682977</td>\n",
       "    </tr>\n",
       "    <tr>\n",
       "      <th>10318</th>\n",
       "      <td>2020-12-12 00:00:00</td>\n",
       "      <td>12</td>\n",
       "      <td>12</td>\n",
       "      <td>2020</td>\n",
       "      <td>6772</td>\n",
       "      <td>142</td>\n",
       "      <td>Canada</td>\n",
       "      <td>CA</td>\n",
       "      <td>CAN</td>\n",
       "      <td>37411038.0</td>\n",
       "      <td>America</td>\n",
       "      <td>239.974630</td>\n",
       "    </tr>\n",
       "    <tr>\n",
       "      <th>10319</th>\n",
       "      <td>2020-11-12 00:00:00</td>\n",
       "      <td>11</td>\n",
       "      <td>12</td>\n",
       "      <td>2020</td>\n",
       "      <td>6739</td>\n",
       "      <td>126</td>\n",
       "      <td>Canada</td>\n",
       "      <td>CA</td>\n",
       "      <td>CAN</td>\n",
       "      <td>37411038.0</td>\n",
       "      <td>America</td>\n",
       "      <td>237.822859</td>\n",
       "    </tr>\n",
       "    <tr>\n",
       "      <th>10320</th>\n",
       "      <td>2020-10-12 00:00:00</td>\n",
       "      <td>10</td>\n",
       "      <td>12</td>\n",
       "      <td>2020</td>\n",
       "      <td>6295</td>\n",
       "      <td>116</td>\n",
       "      <td>Canada</td>\n",
       "      <td>CA</td>\n",
       "      <td>CAN</td>\n",
       "      <td>37411038.0</td>\n",
       "      <td>America</td>\n",
       "      <td>234.861166</td>\n",
       "    </tr>\n",
       "    <tr>\n",
       "      <th>10321</th>\n",
       "      <td>2020-09-12 00:00:00</td>\n",
       "      <td>9</td>\n",
       "      <td>12</td>\n",
       "      <td>2020</td>\n",
       "      <td>5981</td>\n",
       "      <td>90</td>\n",
       "      <td>Canada</td>\n",
       "      <td>CA</td>\n",
       "      <td>CAN</td>\n",
       "      <td>37411038.0</td>\n",
       "      <td>America</td>\n",
       "      <td>231.458427</td>\n",
       "    </tr>\n",
       "    <tr>\n",
       "      <th>10322</th>\n",
       "      <td>2020-08-12 00:00:00</td>\n",
       "      <td>8</td>\n",
       "      <td>12</td>\n",
       "      <td>2020</td>\n",
       "      <td>7872</td>\n",
       "      <td>112</td>\n",
       "      <td>Canada</td>\n",
       "      <td>CA</td>\n",
       "      <td>CAN</td>\n",
       "      <td>37411038.0</td>\n",
       "      <td>America</td>\n",
       "      <td>228.539502</td>\n",
       "    </tr>\n",
       "    <tr>\n",
       "      <th>10323</th>\n",
       "      <td>2020-07-12 00:00:00</td>\n",
       "      <td>7</td>\n",
       "      <td>12</td>\n",
       "      <td>2020</td>\n",
       "      <td>6261</td>\n",
       "      <td>76</td>\n",
       "      <td>Canada</td>\n",
       "      <td>CA</td>\n",
       "      <td>CAN</td>\n",
       "      <td>37411038.0</td>\n",
       "      <td>America</td>\n",
       "      <td>226.347636</td>\n",
       "    </tr>\n",
       "    <tr>\n",
       "      <th>10324</th>\n",
       "      <td>2020-06-12 00:00:00</td>\n",
       "      <td>6</td>\n",
       "      <td>12</td>\n",
       "      <td>2020</td>\n",
       "      <td>6352</td>\n",
       "      <td>93</td>\n",
       "      <td>Canada</td>\n",
       "      <td>CA</td>\n",
       "      <td>CAN</td>\n",
       "      <td>37411038.0</td>\n",
       "      <td>America</td>\n",
       "      <td>222.420987</td>\n",
       "    </tr>\n",
       "    <tr>\n",
       "      <th>10325</th>\n",
       "      <td>2020-05-12 00:00:00</td>\n",
       "      <td>5</td>\n",
       "      <td>12</td>\n",
       "      <td>2020</td>\n",
       "      <td>6299</td>\n",
       "      <td>89</td>\n",
       "      <td>Canada</td>\n",
       "      <td>CA</td>\n",
       "      <td>CAN</td>\n",
       "      <td>37411038.0</td>\n",
       "      <td>America</td>\n",
       "      <td>218.785696</td>\n",
       "    </tr>\n",
       "  </tbody>\n",
       "</table>\n",
       "</div>"
      ],
      "text/plain": [
       "                   dateRep  day  month  year  cases  deaths  \\\n",
       "10316           14/12/2020   14     12  2020   5891      81   \n",
       "10317           13/12/2020   13     12  2020   6011      99   \n",
       "10318  2020-12-12 00:00:00   12     12  2020   6772     142   \n",
       "10319  2020-11-12 00:00:00   11     12  2020   6739     126   \n",
       "10320  2020-10-12 00:00:00   10     12  2020   6295     116   \n",
       "10321  2020-09-12 00:00:00    9     12  2020   5981      90   \n",
       "10322  2020-08-12 00:00:00    8     12  2020   7872     112   \n",
       "10323  2020-07-12 00:00:00    7     12  2020   6261      76   \n",
       "10324  2020-06-12 00:00:00    6     12  2020   6352      93   \n",
       "10325  2020-05-12 00:00:00    5     12  2020   6299      89   \n",
       "\n",
       "      countriesAndTerritories geoId countryterritoryCode  popData2019  \\\n",
       "10316                  Canada    CA                  CAN   37411038.0   \n",
       "10317                  Canada    CA                  CAN   37411038.0   \n",
       "10318                  Canada    CA                  CAN   37411038.0   \n",
       "10319                  Canada    CA                  CAN   37411038.0   \n",
       "10320                  Canada    CA                  CAN   37411038.0   \n",
       "10321                  Canada    CA                  CAN   37411038.0   \n",
       "10322                  Canada    CA                  CAN   37411038.0   \n",
       "10323                  Canada    CA                  CAN   37411038.0   \n",
       "10324                  Canada    CA                  CAN   37411038.0   \n",
       "10325                  Canada    CA                  CAN   37411038.0   \n",
       "\n",
       "      continentExp  Cumulative_number_for_14_days_of_COVID-19_cases_per_100000  \n",
       "10316      America                                         241.813659           \n",
       "10317      America                                         240.682977           \n",
       "10318      America                                         239.974630           \n",
       "10319      America                                         237.822859           \n",
       "10320      America                                         234.861166           \n",
       "10321      America                                         231.458427           \n",
       "10322      America                                         228.539502           \n",
       "10323      America                                         226.347636           \n",
       "10324      America                                         222.420987           \n",
       "10325      America                                         218.785696           "
      ]
     },
     "execution_count": 12,
     "metadata": {},
     "output_type": "execute_result"
    }
   ],
   "source": [
    "canada_data = df.loc[ df['countriesAndTerritories']=='Canada' ]\n",
    "\n",
    "canada_data[:10]"
   ]
  },
  {
   "cell_type": "markdown",
   "id": "bcfdfd2a",
   "metadata": {},
   "source": [
    "## Trend of Covid-19 Cases in Canada "
   ]
  },
  {
   "cell_type": "markdown",
   "id": "77b272dd",
   "metadata": {},
   "source": [
    "#### The line chart below shows the trend of Covid-19 Cases in Canada in the months of 2020. I made this line chart by grouping the data by month while also determining the sum of the cases within 2020. As you can see, there was a spike in Covid-19 Cases in Canada around November. "
   ]
  },
  {
   "cell_type": "code",
   "execution_count": 16,
   "id": "ee2b2b19",
   "metadata": {},
   "outputs": [
    {
     "data": {
      "text/plain": [
       "460743"
      ]
     },
     "execution_count": 16,
     "metadata": {},
     "output_type": "execute_result"
    }
   ],
   "source": [
    "canada_data.sum()['cases']"
   ]
  },
  {
   "cell_type": "code",
   "execution_count": 18,
   "id": "3ec1a400",
   "metadata": {},
   "outputs": [
    {
     "data": {
      "text/plain": [
       "<AxesSubplot:xlabel='month'>"
      ]
     },
     "execution_count": 18,
     "metadata": {},
     "output_type": "execute_result"
    },
    {
     "data": {
      "image/png": "[encoded data removed]",
      "text/plain": [
       "<Figure size 432x288 with 1 Axes>"
      ]
     },
     "metadata": {
      "needs_background": "light"
     },
     "output_type": "display_data"
    }
   ],
   "source": [
    "sum_cases_per_day=canada_data.groupby('month').sum()['cases']\n",
    "sum_cases_per_day.plot()"
   ]
  },
  {
   "cell_type": "markdown",
   "id": "abdee8b3",
   "metadata": {},
   "source": [
    "## Deaths By Month from Covid-19 Cases"
   ]
  },
  {
   "cell_type": "markdown",
   "id": "c7454987",
   "metadata": {},
   "source": [
    "#### Similarly reflecting the prior line graph, this bar graph shows that November had the most Covid-19 deaths in Canada out of every month in 2020. To produce this graphic, I used the sum_cases_by_month variable to display the group data by month.  "
   ]
  },
  {
   "cell_type": "code",
   "execution_count": 19,
   "id": "66ef1d4e",
   "metadata": {},
   "outputs": [
    {
     "data": {
      "text/plain": [
       "<AxesSubplot:xlabel='month'>"
      ]
     },
     "execution_count": 19,
     "metadata": {},
     "output_type": "execute_result"
    },
    {
     "data": {
      "image/png": "[encoded data removed]",
      "text/plain": [
       "<Figure size 432x288 with 1 Axes>"
      ]
     },
     "metadata": {
      "needs_background": "light"
     },
     "output_type": "display_data"
    }
   ],
   "source": [
    "sum_cases_by_month= canada_data.groupby('month').sum()['cases']\n",
    "sum_cases_by_month.plot.bar() "
   ]
  },
  {
   "cell_type": "markdown",
   "id": "36b61d13",
   "metadata": {},
   "source": [
    "## Covid-19 Deaths Compared to Cases in Canada"
   ]
  },
  {
   "cell_type": "markdown",
   "id": "eaf233c7",
   "metadata": {},
   "source": [
    "#### The scatterplot below shows a comparison between two different variables grouped by month. The cases and deaths variable display data based the amount of cases and deaths in Canada during the 2020 calendar year. To get this scatterplot, I associated 3 different variables with a letter assigned to each one. I used the canada_data variable to display."
   ]
  },
  {
   "cell_type": "code",
   "execution_count": 20,
   "id": "74113cf2",
   "metadata": {
    "scrolled": true
   },
   "outputs": [
    {
     "data": {
      "text/plain": [
       "<AxesSubplot:xlabel='cases', ylabel='deaths'>"
      ]
     },
     "execution_count": 20,
     "metadata": {},
     "output_type": "execute_result"
    },
    {
     "data": {
      "image/png": "[encoded data removed]",
      "text/plain": [
       "<Figure size 432x288 with 2 Axes>"
      ]
     },
     "metadata": {
      "needs_background": "light"
     },
     "output_type": "display_data"
    }
   ],
   "source": [
    "canada_data.plot.scatter(x='cases',y='deaths',c='month')"
   ]
  },
  {
   "cell_type": "markdown",
   "id": "6b2ce777",
   "metadata": {},
   "source": [
    "## Concluding Statements"
   ]
  },
  {
   "cell_type": "markdown",
   "id": "82656971",
   "metadata": {},
   "source": [
    "#### Covid-19 has plagued our world with a deadly virus since 2019. The collection of data such as cases, deaths, and hospitilizations is key to finding patterns. Discovering patterns can allow scientists to push for a cure, such as transmission of the virus and how it moves through air molecules. Based on the data, you can see that Canada was mildly effected by the coronavirus at the beginning of 2020. Then, the data shows a slight progression in both cases and deaths that eventually peaks in November. "
   ]
  },
  {
   "cell_type": "code",
   "execution_count": null,
   "id": "6d091fbc",
   "metadata": {},
   "outputs": [],
   "source": []
  }
 ],
 "metadata": {
  "kernelspec": {
   "display_name": "conda_python3",
   "language": "python",
   "name": "conda_python3"
  },
  "language_info": {
   "codemirror_mode": {
    "name": "ipython",
    "version": 3
   },
   "file_extension": ".py",
   "mimetype": "text/x-python",
   "name": "python",
   "nbconvert_exporter": "python",
   "pygments_lexer": "ipython3",
   "version": "3.6.13"
  }
 },
 "nbformat": 4,
 "nbformat_minor": 5
}
